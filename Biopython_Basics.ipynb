{
  "nbformat": 4,
  "nbformat_minor": 0,
  "metadata": {
    "colab": {
      "provenance": [],
      "authorship_tag": "ABX9TyNpBeva9u1pedj+W9bE0P2a",
      "include_colab_link": true
    },
    "kernelspec": {
      "name": "python3",
      "display_name": "Python 3"
    },
    "language_info": {
      "name": "python"
    }
  },
  "cells": [
    {
      "cell_type": "markdown",
      "metadata": {
        "id": "view-in-github",
        "colab_type": "text"
      },
      "source": [
        "<a href=\"https://colab.research.google.com/github/Sanarazaaa/Biopython-Projects/blob/main/Biopython_Basics.ipynb\" target=\"_parent\"><img src=\"https://colab.research.google.com/assets/colab-badge.svg\" alt=\"Open In Colab\"/></a>"
      ]
    },
    {
      "source": [
        "!pip install biopython"
      ],
      "cell_type": "code",
      "metadata": {
        "colab": {
          "base_uri": "https://localhost:8080/"
        },
        "id": "gt-2LItrmr4Z",
        "outputId": "c55e41bc-c610-47b0-8d7e-2d79fba4f844"
      },
      "execution_count": null,
      "outputs": [
        {
          "output_type": "stream",
          "name": "stdout",
          "text": [
            "Collecting biopython\n",
            "  Downloading biopython-1.85-cp311-cp311-manylinux_2_17_x86_64.manylinux2014_x86_64.whl.metadata (13 kB)\n",
            "Requirement already satisfied: numpy in /usr/local/lib/python3.11/dist-packages (from biopython) (1.26.4)\n",
            "Downloading biopython-1.85-cp311-cp311-manylinux_2_17_x86_64.manylinux2014_x86_64.whl (3.3 MB)\n",
            "\u001b[2K   \u001b[90m━━━━━━━━━━━━━━━━━━━━━━━━━━━━━━━━━━━━━━━━\u001b[0m \u001b[32m3.3/3.3 MB\u001b[0m \u001b[31m36.1 MB/s\u001b[0m eta \u001b[36m0:00:00\u001b[0m\n",
            "\u001b[?25hInstalling collected packages: biopython\n",
            "Successfully installed biopython-1.85\n"
          ]
        }
      ]
    },
    {
      "cell_type": "markdown",
      "source": [
        "# Convert DNA to RNA\n"
      ],
      "metadata": {
        "id": "I3vD16TNm3Sf"
      }
    },
    {
      "source": [
        "!pip install biopython # Installs the biopython package\n",
        "from Bio.Seq import Seq # Imports the Seq object from Bio.Seq\n",
        "\n",
        "dna_seq = Seq(\"ATGCGA\") # Creates a Seq object with the DNA sequence\n",
        "rna_seq = dna_seq.transcribe() # Transcribes the DNA sequence to RNA\n",
        "print(rna_seq)  # Output: AUGCGA # Prints the RNA sequence"
      ],
      "cell_type": "code",
      "metadata": {
        "colab": {
          "base_uri": "https://localhost:8080/"
        },
        "id": "CG_gPHZTmuAy",
        "outputId": "4898e325-f8d6-46f7-9066-41ef8c71c298"
      },
      "execution_count": null,
      "outputs": [
        {
          "output_type": "stream",
          "name": "stdout",
          "text": [
            "Requirement already satisfied: biopython in /usr/local/lib/python3.11/dist-packages (1.85)\n",
            "Requirement already satisfied: numpy in /usr/local/lib/python3.11/dist-packages (from biopython) (1.26.4)\n",
            "AUGCGA\n"
          ]
        }
      ]
    },
    {
      "cell_type": "markdown",
      "source": [
        "# Pairwise Sequence Alignment\n",
        "**Project: Perform sequence alignment between two sequences using pairwise2.**"
      ],
      "metadata": {
        "id": "U563qkFtrKx4"
      }
    },
    {
      "cell_type": "code",
      "source": [
        "from Bio import pairwise2\n",
        "from Bio.pairwise2 import format_alignment\n",
        "\n",
        "seq1 = \"GATTACA\"\n",
        "seq2 = \"GCATGCU\"\n",
        "\n",
        "# Perform global alignment\n",
        "alignments = pairwise2.align.globalxx(seq1, seq2)\n",
        "\n",
        "# Print alignments\n",
        "for alignment in alignments:\n",
        "    print(format_alignment(*alignment))\n"
      ],
      "metadata": {
        "colab": {
          "base_uri": "https://localhost:8080/"
        },
        "id": "4KeYfGpjqToU",
        "outputId": "bd2b7ad4-9708-4e1f-8a26-ad70d7e950f6"
      },
      "execution_count": null,
      "outputs": [
        {
          "output_type": "stream",
          "name": "stdout",
          "text": [
            "G-ATTA-CA-\n",
            "| | |  |  \n",
            "GCA-T-GC-U\n",
            "  Score=4\n",
            "\n",
            "G-ATTA-CA-\n",
            "| ||   |  \n",
            "GCAT--GC-U\n",
            "  Score=4\n",
            "\n",
            "G-ATTACA-\n",
            "| | |.|  \n",
            "GCA-TGC-U\n",
            "  Score=4\n",
            "\n",
            "G-ATTACA-\n",
            "| || .|  \n",
            "GCAT-GC-U\n",
            "  Score=4\n",
            "\n",
            "G-ATTACA-\n",
            "| ||. |  \n",
            "GCATG-C-U\n",
            "  Score=4\n",
            "\n",
            "G-ATTA-CA\n",
            "| | |  |.\n",
            "GCA-T-GCU\n",
            "  Score=4\n",
            "\n",
            "G-ATTA-CA\n",
            "| ||   |.\n",
            "GCAT--GCU\n",
            "  Score=4\n",
            "\n",
            "G-ATTACA\n",
            "| | |.|.\n",
            "GCA-TGCU\n",
            "  Score=4\n",
            "\n",
            "G-ATTACA\n",
            "| || .|.\n",
            "GCAT-GCU\n",
            "  Score=4\n",
            "\n",
            "G-ATTACA\n",
            "| ||. |.\n",
            "GCATG-CU\n",
            "  Score=4\n",
            "\n"
          ]
        },
        {
          "output_type": "stream",
          "name": "stderr",
          "text": [
            "/usr/local/lib/python3.11/dist-packages/Bio/pairwise2.py:278: BiopythonDeprecationWarning: Bio.pairwise2 has been deprecated, and we intend to remove it in a future release of Biopython. As an alternative, please consider using Bio.Align.PairwiseAligner as a replacement, and contact the Biopython developers if you still need the Bio.pairwise2 module.\n",
            "  warnings.warn(\n"
          ]
        }
      ]
    },
    {
      "cell_type": "markdown",
      "source": [
        "# Phylogenetic Tree Construction\n",
        "**Project: Create a simple phylogenetic tree from given DNA sequences.**"
      ],
      "metadata": {
        "id": "LHjxn7hgrU_h"
      }
    },
    {
      "cell_type": "code",
      "source": [
        "from Bio import Phylo\n",
        "from Bio.Phylo.TreeConstruction import DistanceCalculator, DistanceTreeConstructor\n",
        "from Bio.Align import MultipleSeqAlignment\n",
        "from Bio.SeqRecord import SeqRecord\n",
        "from Bio.Seq import Seq\n",
        "\n",
        "# Create sample sequences\n",
        "seqs = [\n",
        "    SeqRecord(Seq(\"ATCGTACG\"), id=\"A\"),\n",
        "    SeqRecord(Seq(\"ATCGTACC\"), id=\"B\"),\n",
        "    SeqRecord(Seq(\"ATCGGACG\"), id=\"C\"),\n",
        "    SeqRecord(Seq(\"ATCGGACC\"), id=\"D\")\n",
        "]\n",
        "\n",
        "alignment = MultipleSeqAlignment(seqs)\n",
        "\n",
        "# Calculate distance matrix\n",
        "calculator = DistanceCalculator('identity')\n",
        "dm = calculator.get_distance(alignment)\n",
        "\n",
        "# Construct the tree\n",
        "constructor = DistanceTreeConstructor()\n",
        "tree = constructor.nj(dm)\n",
        "\n",
        "# Draw the tree\n",
        "Phylo.draw_ascii(tree)\n"
      ],
      "metadata": {
        "colab": {
          "base_uri": "https://localhost:8080/"
        },
        "id": "nRlckWVrqg0o",
        "outputId": "a2a9fc61-2881-4c8e-9465-eda4830ce769"
      },
      "execution_count": null,
      "outputs": [
        {
          "output_type": "stream",
          "name": "stdout",
          "text": [
            "                                        _____________________________________ A\n",
            "  _____________________________________|\n",
            " |                                     |_____________________________________ B\n",
            "_|\n",
            " |_____________________________________ C\n",
            " |\n",
            " |_____________________________________ D\n",
            "\n"
          ]
        }
      ]
    },
    {
      "cell_type": "markdown",
      "source": [
        "# DNA Sequence Analysis (GC Content Calculation)\n",
        "\n",
        "*Project:* **Analyze a given DNA sequence and calculate the GC content (percentage of G and C nucleotides).**"
      ],
      "metadata": {
        "id": "t2q7FjubquSz"
      }
    },
    {
      "cell_type": "code",
      "source": [
        "from Bio.Seq import Seq\n",
        "\n",
        "def gc_content(sequence):\n",
        "    seq = Seq(sequence)\n",
        "    g_count = seq.count(\"G\")\n",
        "    c_count = seq.count(\"C\")\n",
        "    gc_percentage = (g_count + c_count) / len(seq) * 100\n",
        "    return gc_percentage\n",
        "\n",
        "# Example usage\n",
        "dna_sequence = \"AGCTATAGCGTAGCTAGCGTAGCTA\"\n",
        "print(f\"GC Content: {gc_content(dna_sequence):.2f}%\")\n"
      ],
      "metadata": {
        "colab": {
          "base_uri": "https://localhost:8080/"
        },
        "id": "KA5UCgPJqprv",
        "outputId": "649f435e-5ead-4e33-af7a-94fbc3c288ec"
      },
      "execution_count": null,
      "outputs": [
        {
          "output_type": "stream",
          "name": "stdout",
          "text": [
            "GC Content: 48.00%\n"
          ]
        }
      ]
    }
  ]
}